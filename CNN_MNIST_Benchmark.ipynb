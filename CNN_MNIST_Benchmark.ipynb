{
 "cells": [
  {
   "cell_type": "code",
   "execution_count": 1,
   "metadata": {},
   "outputs": [],
   "source": [
    "def benchmark():\n",
    "    # Original Source: https://github.com/keras-team/keras/blob/master/examples/mnist_cnn.py\n",
    "    \n",
    "    #from __future__ import print_function\n",
    "    import keras\n",
    "    from keras.datasets import mnist\n",
    "    from keras.models import Sequential\n",
    "    from keras.layers import Dense, Dropout, Flatten\n",
    "    from keras.layers import Conv2D, MaxPooling2D\n",
    "    from keras import backend as K\n",
    "    import time\n",
    "\n",
    "    batch_size = 128\n",
    "    num_classes = 10\n",
    "    epochs = 12\n",
    "\n",
    "    # input image dimensions\n",
    "    img_rows, img_cols = 28, 28\n",
    "\n",
    "    # the data, split between train and test sets\n",
    "    (x_train, y_train), (x_test, y_test) = mnist.load_data()\n",
    "\n",
    "    if K.image_data_format() == 'channels_first':\n",
    "        x_train = x_train.reshape(x_train.shape[0], 1, img_rows, img_cols)\n",
    "        x_test = x_test.reshape(x_test.shape[0], 1, img_rows, img_cols)\n",
    "        input_shape = (1, img_rows, img_cols)\n",
    "    else:\n",
    "        x_train = x_train.reshape(x_train.shape[0], img_rows, img_cols, 1)\n",
    "        x_test = x_test.reshape(x_test.shape[0], img_rows, img_cols, 1)\n",
    "        input_shape = (img_rows, img_cols, 1)\n",
    "\n",
    "    x_train = x_train.astype('float32')\n",
    "    x_test = x_test.astype('float32')\n",
    "    x_train /= 255\n",
    "    x_test /= 255\n",
    "    print('x_train shape:', x_train.shape)\n",
    "    print(x_train.shape[0], 'train samples')\n",
    "    print(x_test.shape[0], 'test samples')\n",
    "\n",
    "    # convert class vectors to binary class matrices\n",
    "    y_train = keras.utils.to_categorical(y_train, num_classes)\n",
    "    y_test = keras.utils.to_categorical(y_test, num_classes)\n",
    "\n",
    "    # time only the CNN portion\n",
    "    start = time.time()\n",
    "\n",
    "    model = Sequential()\n",
    "    model.add(Conv2D(32, kernel_size=(3, 3),\n",
    "                     activation='relu',\n",
    "                     input_shape=input_shape))\n",
    "    model.add(Conv2D(64, (3, 3), activation='relu'))\n",
    "    model.add(MaxPooling2D(pool_size=(2, 2)))\n",
    "    model.add(Dropout(0.25))\n",
    "    model.add(Flatten())\n",
    "    model.add(Dense(128, activation='relu'))\n",
    "    model.add(Dropout(0.5))\n",
    "    model.add(Dense(num_classes, activation='softmax'))\n",
    "\n",
    "    model.compile(loss=keras.losses.categorical_crossentropy,\n",
    "                  optimizer=keras.optimizers.Adadelta(),\n",
    "                  metrics=['accuracy'])\n",
    "\n",
    "    # verbosity is silent\n",
    "    model.fit(x_train, y_train,\n",
    "              batch_size=batch_size,\n",
    "              epochs=epochs,\n",
    "              verbose=0,\n",
    "              validation_split=.8)\n",
    "    score = model.evaluate(x_test, y_test, verbose=0) \n",
    "    print('Test loss:', score[0])\n",
    "    print('Test accuracy:', score[1])\n",
    "    end = time.time() - start\n",
    "    print(f'Time to run CNN Model is {end:.2f} seconds')\n",
    "\n",
    "    K.clear_session()\n",
    "    del model\n",
    "    return end"
   ]
  },
  {
   "cell_type": "code",
   "execution_count": 2,
   "metadata": {
    "scrolled": true
   },
   "outputs": [
    {
     "name": "stderr",
     "output_type": "stream",
     "text": [
      "Using TensorFlow backend.\n"
     ]
    },
    {
     "name": "stdout",
     "output_type": "stream",
     "text": [
      "x_train shape: (60000, 28, 28, 1)\n",
      "60000 train samples\n",
      "10000 test samples\n",
      "Test loss: 0.053400537303850436\n",
      "Test accuracy: 0.9821\n",
      "Time to run CNN Model is 28.19 seconds\n",
      "x_train shape: (60000, 28, 28, 1)\n",
      "60000 train samples\n",
      "10000 test samples\n",
      "Test loss: 0.05836656783845319\n",
      "Test accuracy: 0.9827\n",
      "Time to run CNN Model is 26.98 seconds\n",
      "x_train shape: (60000, 28, 28, 1)\n",
      "60000 train samples\n",
      "10000 test samples\n",
      "Test loss: 0.06148444327189645\n",
      "Test accuracy: 0.9814\n",
      "Time to run CNN Model is 27.11 seconds\n",
      "x_train shape: (60000, 28, 28, 1)\n",
      "60000 train samples\n",
      "10000 test samples\n",
      "Test loss: 0.054497890518247\n",
      "Test accuracy: 0.9842\n",
      "Time to run CNN Model is 27.04 seconds\n",
      "x_train shape: (60000, 28, 28, 1)\n",
      "60000 train samples\n",
      "10000 test samples\n",
      "Test loss: 0.0577565360223678\n",
      "Test accuracy: 0.9814\n",
      "Time to run CNN Model is 26.92 seconds\n"
     ]
    }
   ],
   "source": [
    "# CPU @ 4.3GHz\n",
    "import numpy as np\n",
    "import pickle\n",
    "\n",
    "run_times = []\n",
    "mean_std = []\n",
    "for i in range(5):\n",
    "    run_times.append(benchmark())\n",
    "\n",
    "run_times.remove(max(run_times))\n",
    "run_times.remove(min(run_times))\n",
    "mean = np.mean(run_times)\n",
    "std = np.std(run_times)\n",
    "mean_std = [mean, std]\n",
    "\n",
    "pickle_out = open('4_3.pickle', 'wb')\n",
    "pickle.dump(mean_std, pickle_out)\n",
    "pickle_out.close()"
   ]
  },
  {
   "cell_type": "code",
   "execution_count": 3,
   "metadata": {},
   "outputs": [
    {
     "name": "stdout",
     "output_type": "stream",
     "text": [
      "[26.982845783233643, 27.110504627227783, 27.043683290481567]\n",
      "[27.04567790031433, 0.052135585823688615]\n"
     ]
    }
   ],
   "source": [
    "print(run_times)\n",
    "print(mean_std)"
   ]
  },
  {
   "cell_type": "code",
   "execution_count": 4,
   "metadata": {},
   "outputs": [
    {
     "data": {
      "text/plain": [
       "[27.04567790031433, 0.052135585823688615]"
      ]
     },
     "execution_count": 4,
     "metadata": {},
     "output_type": "execute_result"
    }
   ],
   "source": [
    "pickle_in = open('4_3.pickle', 'rb')\n",
    "x = pickle.load(pickle_in)\n",
    "x"
   ]
  },
  {
   "cell_type": "markdown",
   "metadata": {},
   "source": [
    "### Reboot"
   ]
  },
  {
   "cell_type": "code",
   "execution_count": 4,
   "metadata": {
    "scrolled": true
   },
   "outputs": [
    {
     "name": "stdout",
     "output_type": "stream",
     "text": [
      "x_train shape: (60000, 28, 28, 1)\n",
      "60000 train samples\n",
      "10000 test samples\n",
      "Test loss: 0.053635211850913765\n",
      "Test accuracy: 0.9829\n",
      "Time to run CNN Model is 26.93 seconds\n",
      "x_train shape: (60000, 28, 28, 1)\n",
      "60000 train samples\n",
      "10000 test samples\n",
      "Test loss: 0.05056731430435611\n",
      "Test accuracy: 0.984\n",
      "Time to run CNN Model is 26.93 seconds\n",
      "x_train shape: (60000, 28, 28, 1)\n",
      "60000 train samples\n",
      "10000 test samples\n",
      "Test loss: 0.05562475226189781\n",
      "Test accuracy: 0.9816\n",
      "Time to run CNN Model is 27.16 seconds\n",
      "x_train shape: (60000, 28, 28, 1)\n",
      "60000 train samples\n",
      "10000 test samples\n",
      "Test loss: 0.05473585452490661\n",
      "Test accuracy: 0.9825\n",
      "Time to run CNN Model is 27.02 seconds\n",
      "x_train shape: (60000, 28, 28, 1)\n",
      "60000 train samples\n",
      "10000 test samples\n",
      "Test loss: 0.055541092719852164\n",
      "Test accuracy: 0.982\n",
      "Time to run CNN Model is 26.80 seconds\n"
     ]
    }
   ],
   "source": [
    "# CPU @ 4.4GHz\n",
    "import numpy as np\n",
    "import pickle\n",
    "\n",
    "run_times = []\n",
    "mean_std = []\n",
    "for i in range(5):\n",
    "    run_times.append(benchmark())\n",
    "\n",
    "run_times.remove(max(run_times))\n",
    "run_times.remove(min(run_times))\n",
    "mean = np.mean(run_times)\n",
    "std = np.std(run_times)\n",
    "mean_std = [mean, std]\n",
    "\n",
    "pickle_out = open('4_4.pickle', 'wb')\n",
    "pickle.dump(mean_std, pickle_out)\n",
    "pickle_out.close()"
   ]
  },
  {
   "cell_type": "markdown",
   "metadata": {},
   "source": [
    "### Reboot"
   ]
  },
  {
   "cell_type": "code",
   "execution_count": 2,
   "metadata": {
    "scrolled": true
   },
   "outputs": [
    {
     "name": "stderr",
     "output_type": "stream",
     "text": [
      "Using TensorFlow backend.\n"
     ]
    },
    {
     "name": "stdout",
     "output_type": "stream",
     "text": [
      "x_train shape: (60000, 28, 28, 1)\n",
      "60000 train samples\n",
      "10000 test samples\n",
      "Test loss: 0.055680771916056256\n",
      "Test accuracy: 0.9839\n",
      "Time to run CNN Model is 29.54 seconds\n",
      "x_train shape: (60000, 28, 28, 1)\n",
      "60000 train samples\n",
      "10000 test samples\n",
      "Test loss: 0.046377268916001774\n",
      "Test accuracy: 0.9853\n",
      "Time to run CNN Model is 26.94 seconds\n",
      "x_train shape: (60000, 28, 28, 1)\n",
      "60000 train samples\n",
      "10000 test samples\n",
      "Test loss: 0.04831559362689514\n",
      "Test accuracy: 0.9843\n",
      "Time to run CNN Model is 26.75 seconds\n",
      "x_train shape: (60000, 28, 28, 1)\n",
      "60000 train samples\n",
      "10000 test samples\n",
      "Test loss: 0.05296562201416382\n",
      "Test accuracy: 0.9838\n",
      "Time to run CNN Model is 26.84 seconds\n",
      "x_train shape: (60000, 28, 28, 1)\n",
      "60000 train samples\n",
      "10000 test samples\n",
      "Test loss: 0.05278798677196319\n",
      "Test accuracy: 0.9833\n",
      "Time to run CNN Model is 26.71 seconds\n"
     ]
    }
   ],
   "source": [
    "# CPU @ 4.5GHz\n",
    "import numpy as np\n",
    "import pickle\n",
    "\n",
    "run_times = []\n",
    "mean_std = []\n",
    "for i in range(5):\n",
    "    run_times.append(benchmark())\n",
    "    \n",
    "run_times.remove(max(run_times))\n",
    "run_times.remove(min(run_times))\n",
    "mean = np.mean(run_times)\n",
    "std = np.std(run_times)\n",
    "mean_std = [mean, std]\n",
    "\n",
    "pickle_out = open('4_5.pickle', 'wb')\n",
    "pickle.dump(mean_std, pickle_out)\n",
    "pickle_out.close()"
   ]
  },
  {
   "cell_type": "markdown",
   "metadata": {},
   "source": [
    "### Reboot"
   ]
  },
  {
   "cell_type": "code",
   "execution_count": 2,
   "metadata": {
    "scrolled": true
   },
   "outputs": [
    {
     "name": "stderr",
     "output_type": "stream",
     "text": [
      "Using TensorFlow backend.\n"
     ]
    },
    {
     "name": "stdout",
     "output_type": "stream",
     "text": [
      "x_train shape: (60000, 28, 28, 1)\n",
      "60000 train samples\n",
      "10000 test samples\n",
      "Test loss: 0.05620456033280425\n",
      "Test accuracy: 0.983\n",
      "Time to run CNN Model is 29.47 seconds\n",
      "x_train shape: (60000, 28, 28, 1)\n",
      "60000 train samples\n",
      "10000 test samples\n",
      "Test loss: 0.05264035290092361\n",
      "Test accuracy: 0.9829\n",
      "Time to run CNN Model is 26.79 seconds\n",
      "x_train shape: (60000, 28, 28, 1)\n",
      "60000 train samples\n",
      "10000 test samples\n",
      "Test loss: 0.05846237947738628\n",
      "Test accuracy: 0.9828\n",
      "Time to run CNN Model is 26.82 seconds\n",
      "x_train shape: (60000, 28, 28, 1)\n",
      "60000 train samples\n",
      "10000 test samples\n",
      "Test loss: 0.05907110010482283\n",
      "Test accuracy: 0.9815\n",
      "Time to run CNN Model is 26.84 seconds\n",
      "x_train shape: (60000, 28, 28, 1)\n",
      "60000 train samples\n",
      "10000 test samples\n",
      "Test loss: 0.05493434870053607\n",
      "Test accuracy: 0.9834\n",
      "Time to run CNN Model is 26.69 seconds\n"
     ]
    }
   ],
   "source": [
    "# CPU @ 4.6GHz\n",
    "import numpy as np\n",
    "import pickle\n",
    "\n",
    "run_times = []\n",
    "mean_std = []\n",
    "for i in range(5):\n",
    "    run_times.append(benchmark())\n",
    "    \n",
    "run_times.remove(max(run_times))\n",
    "run_times.remove(min(run_times))\n",
    "mean = np.mean(run_times)\n",
    "std = np.std(run_times)\n",
    "mean_std = [mean, std]\n",
    "\n",
    "pickle_out = open('4_6.pickle', 'wb')\n",
    "pickle.dump(mean_std, pickle_out)\n",
    "pickle_out.close()"
   ]
  },
  {
   "cell_type": "markdown",
   "metadata": {},
   "source": [
    "### Reboot"
   ]
  },
  {
   "cell_type": "code",
   "execution_count": 2,
   "metadata": {
    "scrolled": true
   },
   "outputs": [
    {
     "name": "stderr",
     "output_type": "stream",
     "text": [
      "Using TensorFlow backend.\n"
     ]
    },
    {
     "name": "stdout",
     "output_type": "stream",
     "text": [
      "x_train shape: (60000, 28, 28, 1)\n",
      "60000 train samples\n",
      "10000 test samples\n",
      "Test loss: 0.06364646030259974\n",
      "Test accuracy: 0.9809\n",
      "Time to run CNN Model is 29.00 seconds\n",
      "x_train shape: (60000, 28, 28, 1)\n",
      "60000 train samples\n",
      "10000 test samples\n",
      "Test loss: 0.05787872535011629\n",
      "Test accuracy: 0.9821\n",
      "Time to run CNN Model is 26.54 seconds\n",
      "x_train shape: (60000, 28, 28, 1)\n",
      "60000 train samples\n",
      "10000 test samples\n",
      "Test loss: 0.05536574770122898\n",
      "Test accuracy: 0.9813\n",
      "Time to run CNN Model is 26.42 seconds\n",
      "x_train shape: (60000, 28, 28, 1)\n",
      "60000 train samples\n",
      "10000 test samples\n",
      "Test loss: 0.04874470998833858\n",
      "Test accuracy: 0.9847\n",
      "Time to run CNN Model is 26.52 seconds\n",
      "x_train shape: (60000, 28, 28, 1)\n",
      "60000 train samples\n",
      "10000 test samples\n",
      "Test loss: 0.053678476036601204\n",
      "Test accuracy: 0.9833\n",
      "Time to run CNN Model is 26.43 seconds\n"
     ]
    }
   ],
   "source": [
    "# CPU @ 4.7GHz\n",
    "import numpy as np\n",
    "import pickle\n",
    "\n",
    "run_times = []\n",
    "mean_std = []\n",
    "for i in range(5):\n",
    "    run_times.append(benchmark())\n",
    "    \n",
    "run_times.remove(max(run_times))\n",
    "run_times.remove(min(run_times))\n",
    "mean = np.mean(run_times)\n",
    "std = np.std(run_times)\n",
    "mean_std = [mean, std]\n",
    "\n",
    "pickle_out = open('4_7.pickle', 'wb')\n",
    "pickle.dump(mean_std, pickle_out)\n",
    "pickle_out.close()"
   ]
  },
  {
   "cell_type": "markdown",
   "metadata": {},
   "source": [
    "### Reboot"
   ]
  },
  {
   "cell_type": "code",
   "execution_count": 2,
   "metadata": {
    "scrolled": true
   },
   "outputs": [
    {
     "name": "stderr",
     "output_type": "stream",
     "text": [
      "Using TensorFlow backend.\n"
     ]
    },
    {
     "name": "stdout",
     "output_type": "stream",
     "text": [
      "x_train shape: (60000, 28, 28, 1)\n",
      "60000 train samples\n",
      "10000 test samples\n",
      "Test loss: 0.052152342032919116\n",
      "Test accuracy: 0.9848\n",
      "Time to run CNN Model is 29.02 seconds\n",
      "x_train shape: (60000, 28, 28, 1)\n",
      "60000 train samples\n",
      "10000 test samples\n",
      "Test loss: 0.05358453416488192\n",
      "Test accuracy: 0.984\n",
      "Time to run CNN Model is 26.62 seconds\n",
      "x_train shape: (60000, 28, 28, 1)\n",
      "60000 train samples\n",
      "10000 test samples\n",
      "Test loss: 0.05680403278491176\n",
      "Test accuracy: 0.9829\n",
      "Time to run CNN Model is 26.53 seconds\n",
      "x_train shape: (60000, 28, 28, 1)\n",
      "60000 train samples\n",
      "10000 test samples\n",
      "Test loss: 0.05883248362448212\n",
      "Test accuracy: 0.9823\n",
      "Time to run CNN Model is 26.52 seconds\n",
      "x_train shape: (60000, 28, 28, 1)\n",
      "60000 train samples\n",
      "10000 test samples\n",
      "Test loss: 0.05882808388454723\n",
      "Test accuracy: 0.9823\n",
      "Time to run CNN Model is 26.45 seconds\n"
     ]
    }
   ],
   "source": [
    "# CPU @ 4.8GHz\n",
    "import numpy as np\n",
    "import pickle\n",
    "\n",
    "run_times = []\n",
    "mean_std = []\n",
    "for i in range(5):\n",
    "    run_times.append(benchmark())\n",
    "    \n",
    "run_times.remove(max(run_times))\n",
    "run_times.remove(min(run_times))\n",
    "mean = np.mean(run_times)\n",
    "std = np.std(run_times)\n",
    "mean_std = [mean, std]\n",
    "\n",
    "pickle_out = open('4_8.pickle', 'wb')\n",
    "pickle.dump(mean_std, pickle_out)\n",
    "pickle_out.close()"
   ]
  },
  {
   "cell_type": "markdown",
   "metadata": {},
   "source": [
    "# GPU Core Tuning"
   ]
  },
  {
   "cell_type": "code",
   "execution_count": 2,
   "metadata": {
    "scrolled": true
   },
   "outputs": [
    {
     "name": "stderr",
     "output_type": "stream",
     "text": [
      "Using TensorFlow backend.\n"
     ]
    },
    {
     "name": "stdout",
     "output_type": "stream",
     "text": [
      "x_train shape: (60000, 28, 28, 1)\n",
      "60000 train samples\n",
      "10000 test samples\n",
      "Test loss: 0.051236002481487956\n",
      "Test accuracy: 0.9844\n",
      "Time to run CNN Model is 30.12 seconds\n",
      "x_train shape: (60000, 28, 28, 1)\n",
      "60000 train samples\n",
      "10000 test samples\n",
      "Test loss: 0.06151448681503825\n",
      "Test accuracy: 0.9802\n",
      "Time to run CNN Model is 29.26 seconds\n",
      "x_train shape: (60000, 28, 28, 1)\n",
      "60000 train samples\n",
      "10000 test samples\n",
      "Test loss: 0.05758913816533023\n",
      "Test accuracy: 0.9822\n",
      "Time to run CNN Model is 29.21 seconds\n",
      "x_train shape: (60000, 28, 28, 1)\n",
      "60000 train samples\n",
      "10000 test samples\n",
      "Test loss: 0.05768341180729767\n",
      "Test accuracy: 0.9826\n",
      "Time to run CNN Model is 29.00 seconds\n",
      "x_train shape: (60000, 28, 28, 1)\n",
      "60000 train samples\n",
      "10000 test samples\n",
      "Test loss: 0.05354408614825952\n",
      "Test accuracy: 0.9823\n",
      "Time to run CNN Model is 28.81 seconds\n"
     ]
    }
   ],
   "source": [
    "# CPU @ 4.8GHz\n",
    "# GPU Core Clock @ -400MHz\n",
    "# GPU Memory Clock @ default\n",
    "# Configuration 1\n",
    "import numpy as np\n",
    "import pickle\n",
    "\n",
    "run_times = []\n",
    "mean_std = []\n",
    "for i in range(5):\n",
    "    run_times.append(benchmark())\n",
    "    \n",
    "run_times.remove(max(run_times))\n",
    "run_times.remove(min(run_times))\n",
    "mean = np.mean(run_times)\n",
    "std = np.std(run_times)\n",
    "mean_std = [mean, std]\n",
    "\n",
    "pickle_out = open('core1.pickle', 'wb')\n",
    "pickle.dump(mean_std, pickle_out)\n",
    "pickle_out.close()"
   ]
  },
  {
   "cell_type": "code",
   "execution_count": 3,
   "metadata": {
    "scrolled": true
   },
   "outputs": [
    {
     "name": "stdout",
     "output_type": "stream",
     "text": [
      "x_train shape: (60000, 28, 28, 1)\n",
      "60000 train samples\n",
      "10000 test samples\n",
      "Test loss: 0.05967214046240697\n",
      "Test accuracy: 0.9813\n",
      "Time to run CNN Model is 28.51 seconds\n",
      "x_train shape: (60000, 28, 28, 1)\n",
      "60000 train samples\n",
      "10000 test samples\n",
      "Test loss: 0.0535924849349045\n",
      "Test accuracy: 0.984\n",
      "Time to run CNN Model is 28.36 seconds\n",
      "x_train shape: (60000, 28, 28, 1)\n",
      "60000 train samples\n",
      "10000 test samples\n",
      "Test loss: 0.05489088245493549\n",
      "Test accuracy: 0.982\n",
      "Time to run CNN Model is 28.56 seconds\n",
      "x_train shape: (60000, 28, 28, 1)\n",
      "60000 train samples\n",
      "10000 test samples\n",
      "Test loss: 0.0543412395665262\n",
      "Test accuracy: 0.982\n",
      "Time to run CNN Model is 28.27 seconds\n",
      "x_train shape: (60000, 28, 28, 1)\n",
      "60000 train samples\n",
      "10000 test samples\n",
      "Test loss: 0.05278181997588399\n",
      "Test accuracy: 0.9843\n",
      "Time to run CNN Model is 28.04 seconds\n"
     ]
    }
   ],
   "source": [
    "# CPU @ 4.8GHz\n",
    "# GPU Core Clock @ -300MHz\n",
    "# GPU Memory Clock @ default\n",
    "import numpy as np\n",
    "import pickle\n",
    "\n",
    "run_times = []\n",
    "mean_std = []\n",
    "for i in range(5):\n",
    "    run_times.append(benchmark())\n",
    "    \n",
    "run_times.remove(max(run_times))\n",
    "run_times.remove(min(run_times))\n",
    "mean = np.mean(run_times)\n",
    "std = np.std(run_times)\n",
    "mean_std = [mean, std]\n",
    "\n",
    "pickle_out = open('core2.pickle', 'wb')\n",
    "pickle.dump(mean_std, pickle_out)\n",
    "pickle_out.close()"
   ]
  },
  {
   "cell_type": "code",
   "execution_count": 4,
   "metadata": {
    "scrolled": true
   },
   "outputs": [
    {
     "name": "stdout",
     "output_type": "stream",
     "text": [
      "x_train shape: (60000, 28, 28, 1)\n",
      "60000 train samples\n",
      "10000 test samples\n",
      "Test loss: 0.05073814148812671\n",
      "Test accuracy: 0.9842\n",
      "Time to run CNN Model is 27.89 seconds\n",
      "x_train shape: (60000, 28, 28, 1)\n",
      "60000 train samples\n",
      "10000 test samples\n",
      "Test loss: 0.05612485152716436\n",
      "Test accuracy: 0.9837\n",
      "Time to run CNN Model is 27.50 seconds\n",
      "x_train shape: (60000, 28, 28, 1)\n",
      "60000 train samples\n",
      "10000 test samples\n",
      "Test loss: 0.05730590325458397\n",
      "Test accuracy: 0.9828\n",
      "Time to run CNN Model is 27.57 seconds\n",
      "x_train shape: (60000, 28, 28, 1)\n",
      "60000 train samples\n",
      "10000 test samples\n",
      "Test loss: 0.05380922624329833\n",
      "Test accuracy: 0.9828\n",
      "Time to run CNN Model is 27.54 seconds\n",
      "x_train shape: (60000, 28, 28, 1)\n",
      "60000 train samples\n",
      "10000 test samples\n",
      "Test loss: 0.05670178394711111\n",
      "Test accuracy: 0.9827\n",
      "Time to run CNN Model is 27.86 seconds\n"
     ]
    }
   ],
   "source": [
    "# CPU @ 4.8GHz\n",
    "# GPU Core Clock @ -200MHz\n",
    "# GPU Memory Clock @ default\n",
    "import numpy as np\n",
    "import pickle\n",
    "\n",
    "run_times = []\n",
    "mean_std = []\n",
    "for i in range(5):\n",
    "    run_times.append(benchmark())\n",
    "    \n",
    "run_times.remove(max(run_times))\n",
    "run_times.remove(min(run_times))\n",
    "mean = np.mean(run_times)\n",
    "std = np.std(run_times)\n",
    "mean_std = [mean, std]\n",
    "\n",
    "pickle_out = open('core3.pickle', 'wb')\n",
    "pickle.dump(mean_std, pickle_out)\n",
    "pickle_out.close()"
   ]
  },
  {
   "cell_type": "code",
   "execution_count": 5,
   "metadata": {
    "scrolled": true
   },
   "outputs": [
    {
     "name": "stdout",
     "output_type": "stream",
     "text": [
      "x_train shape: (60000, 28, 28, 1)\n",
      "60000 train samples\n",
      "10000 test samples\n",
      "Test loss: 0.05133793380494608\n",
      "Test accuracy: 0.9841\n",
      "Time to run CNN Model is 27.26 seconds\n",
      "x_train shape: (60000, 28, 28, 1)\n",
      "60000 train samples\n",
      "10000 test samples\n",
      "Test loss: 0.05669688641002358\n",
      "Test accuracy: 0.9834\n",
      "Time to run CNN Model is 26.91 seconds\n",
      "x_train shape: (60000, 28, 28, 1)\n",
      "60000 train samples\n",
      "10000 test samples\n",
      "Test loss: 0.05746517371977461\n",
      "Test accuracy: 0.9815\n",
      "Time to run CNN Model is 27.03 seconds\n",
      "x_train shape: (60000, 28, 28, 1)\n",
      "60000 train samples\n",
      "10000 test samples\n",
      "Test loss: 0.049158915351530594\n",
      "Test accuracy: 0.9831\n",
      "Time to run CNN Model is 26.92 seconds\n",
      "x_train shape: (60000, 28, 28, 1)\n",
      "60000 train samples\n",
      "10000 test samples\n",
      "Test loss: 0.05511242086732964\n",
      "Test accuracy: 0.9821\n",
      "Time to run CNN Model is 27.35 seconds\n"
     ]
    }
   ],
   "source": [
    "# CPU @ 4.8GHz\n",
    "# GPU Core Clock @ -100MHz\n",
    "# GPU Memory Clock @ default\n",
    "import numpy as np\n",
    "import pickle\n",
    "\n",
    "run_times = []\n",
    "mean_std = []\n",
    "for i in range(5):\n",
    "    run_times.append(benchmark())\n",
    "    \n",
    "run_times.remove(max(run_times))\n",
    "run_times.remove(min(run_times))\n",
    "mean = np.mean(run_times)\n",
    "std = np.std(run_times)\n",
    "mean_std = [mean, std]\n",
    "\n",
    "pickle_out = open('core4.pickle', 'wb')\n",
    "pickle.dump(mean_std, pickle_out)\n",
    "pickle_out.close()"
   ]
  },
  {
   "cell_type": "code",
   "execution_count": 6,
   "metadata": {
    "scrolled": true
   },
   "outputs": [
    {
     "name": "stdout",
     "output_type": "stream",
     "text": [
      "x_train shape: (60000, 28, 28, 1)\n",
      "60000 train samples\n",
      "10000 test samples\n",
      "Test loss: 0.0503418024363491\n",
      "Test accuracy: 0.9836\n",
      "Time to run CNN Model is 26.74 seconds\n",
      "x_train shape: (60000, 28, 28, 1)\n",
      "60000 train samples\n",
      "10000 test samples\n",
      "Test loss: 0.05970190847572776\n",
      "Test accuracy: 0.982\n",
      "Time to run CNN Model is 26.56 seconds\n",
      "x_train shape: (60000, 28, 28, 1)\n",
      "60000 train samples\n",
      "10000 test samples\n",
      "Test loss: 0.055258573813039405\n",
      "Test accuracy: 0.9837\n",
      "Time to run CNN Model is 26.37 seconds\n",
      "x_train shape: (60000, 28, 28, 1)\n",
      "60000 train samples\n",
      "10000 test samples\n",
      "Test loss: 0.05323745930365403\n",
      "Test accuracy: 0.9825\n",
      "Time to run CNN Model is 26.57 seconds\n",
      "x_train shape: (60000, 28, 28, 1)\n",
      "60000 train samples\n",
      "10000 test samples\n",
      "Test loss: 0.054964974609460475\n",
      "Test accuracy: 0.9827\n",
      "Time to run CNN Model is 26.41 seconds\n"
     ]
    }
   ],
   "source": [
    "# CPU @ 4.8GHz\n",
    "# GPU Core Clock @ +0MHz\n",
    "# GPU Memory Clock @ default\n",
    "import numpy as np\n",
    "import pickle\n",
    "\n",
    "run_times = []\n",
    "mean_std = []\n",
    "for i in range(5):\n",
    "    run_times.append(benchmark())\n",
    "    \n",
    "run_times.remove(max(run_times))\n",
    "run_times.remove(min(run_times))\n",
    "mean = np.mean(run_times)\n",
    "std = np.std(run_times)\n",
    "mean_std = [mean, std]\n",
    "\n",
    "pickle_out = open('core5.pickle', 'wb')\n",
    "pickle.dump(mean_std, pickle_out)\n",
    "pickle_out.close()"
   ]
  },
  {
   "cell_type": "code",
   "execution_count": 7,
   "metadata": {
    "scrolled": true
   },
   "outputs": [
    {
     "name": "stdout",
     "output_type": "stream",
     "text": [
      "x_train shape: (60000, 28, 28, 1)\n",
      "60000 train samples\n",
      "10000 test samples\n",
      "Test loss: 0.060121904104884744\n",
      "Test accuracy: 0.9825\n",
      "Time to run CNN Model is 26.14 seconds\n",
      "x_train shape: (60000, 28, 28, 1)\n",
      "60000 train samples\n",
      "10000 test samples\n",
      "Test loss: 0.06061242164765645\n",
      "Test accuracy: 0.9815\n",
      "Time to run CNN Model is 26.06 seconds\n",
      "x_train shape: (60000, 28, 28, 1)\n",
      "60000 train samples\n",
      "10000 test samples\n",
      "Test loss: 0.0538625692882637\n",
      "Test accuracy: 0.9834\n",
      "Time to run CNN Model is 26.26 seconds\n",
      "x_train shape: (60000, 28, 28, 1)\n",
      "60000 train samples\n",
      "10000 test samples\n",
      "Test loss: 0.052652691310894444\n",
      "Test accuracy: 0.984\n",
      "Time to run CNN Model is 29.60 seconds\n",
      "x_train shape: (60000, 28, 28, 1)\n",
      "60000 train samples\n",
      "10000 test samples\n",
      "Test loss: 0.050200182070137815\n",
      "Test accuracy: 0.9842\n",
      "Time to run CNN Model is 26.23 seconds\n"
     ]
    }
   ],
   "source": [
    "# CPU @ 4.8GHz\n",
    "# GPU Core Clock @ +100MHz\n",
    "# GPU Memory Clock @ default\n",
    "import numpy as np\n",
    "import pickle\n",
    "\n",
    "run_times = []\n",
    "mean_std = []\n",
    "for i in range(5):\n",
    "    run_times.append(benchmark())\n",
    "    \n",
    "run_times.remove(max(run_times))\n",
    "run_times.remove(min(run_times))\n",
    "mean = np.mean(run_times)\n",
    "std = np.std(run_times)\n",
    "mean_std = [mean, std]\n",
    "\n",
    "pickle_out = open('core6.pickle', 'wb')\n",
    "pickle.dump(mean_std, pickle_out)\n",
    "pickle_out.close()"
   ]
  },
  {
   "cell_type": "markdown",
   "metadata": {},
   "source": [
    "# GPU Memory Tuning"
   ]
  },
  {
   "cell_type": "code",
   "execution_count": 9,
   "metadata": {
    "scrolled": true
   },
   "outputs": [
    {
     "name": "stdout",
     "output_type": "stream",
     "text": [
      "x_train shape: (60000, 28, 28, 1)\n",
      "60000 train samples\n",
      "10000 test samples\n",
      "Test loss: 0.05668058544809028\n",
      "Test accuracy: 0.983\n",
      "Time to run CNN Model is 26.81 seconds\n",
      "x_train shape: (60000, 28, 28, 1)\n",
      "60000 train samples\n",
      "10000 test samples\n",
      "Test loss: 0.05325943080986471\n",
      "Test accuracy: 0.9829\n",
      "Time to run CNN Model is 26.44 seconds\n",
      "x_train shape: (60000, 28, 28, 1)\n",
      "60000 train samples\n",
      "10000 test samples\n",
      "Test loss: 0.05519827129988989\n",
      "Test accuracy: 0.9829\n",
      "Time to run CNN Model is 26.42 seconds\n",
      "x_train shape: (60000, 28, 28, 1)\n",
      "60000 train samples\n",
      "10000 test samples\n",
      "Test loss: 0.057551643640978\n",
      "Test accuracy: 0.9826\n",
      "Time to run CNN Model is 26.53 seconds\n",
      "x_train shape: (60000, 28, 28, 1)\n",
      "60000 train samples\n",
      "10000 test samples\n",
      "Test loss: 0.05183903165015145\n",
      "Test accuracy: 0.9839\n",
      "Time to run CNN Model is 26.67 seconds\n"
     ]
    }
   ],
   "source": [
    "# CPU @ 4.8GHz\n",
    "# GPU Core Clock @ +100MHz\n",
    "# GPU Memory Clock @ -300MHz\n",
    "import numpy as np\n",
    "import pickle\n",
    "\n",
    "run_times = []\n",
    "mean_std = []\n",
    "for i in range(5):\n",
    "    run_times.append(benchmark())\n",
    "    \n",
    "run_times.remove(max(run_times))\n",
    "run_times.remove(min(run_times))\n",
    "mean = np.mean(run_times)\n",
    "std = np.std(run_times)\n",
    "mean_std = [mean, std]\n",
    "\n",
    "pickle_out = open('mem1.pickle', 'wb')\n",
    "pickle.dump(mean_std, pickle_out)\n",
    "pickle_out.close()"
   ]
  },
  {
   "cell_type": "code",
   "execution_count": 10,
   "metadata": {
    "scrolled": true
   },
   "outputs": [
    {
     "name": "stdout",
     "output_type": "stream",
     "text": [
      "x_train shape: (60000, 28, 28, 1)\n",
      "60000 train samples\n",
      "10000 test samples\n",
      "Test loss: 0.05606942728260765\n",
      "Test accuracy: 0.9826\n",
      "Time to run CNN Model is 26.39 seconds\n",
      "x_train shape: (60000, 28, 28, 1)\n",
      "60000 train samples\n",
      "10000 test samples\n",
      "Test loss: 0.05973393319943571\n",
      "Test accuracy: 0.9827\n",
      "Time to run CNN Model is 26.11 seconds\n",
      "x_train shape: (60000, 28, 28, 1)\n",
      "60000 train samples\n",
      "10000 test samples\n",
      "Test loss: 0.05301238645460071\n",
      "Test accuracy: 0.984\n",
      "Time to run CNN Model is 26.18 seconds\n",
      "x_train shape: (60000, 28, 28, 1)\n",
      "60000 train samples\n",
      "10000 test samples\n",
      "Test loss: 0.05262512597766836\n",
      "Test accuracy: 0.9831\n",
      "Time to run CNN Model is 26.12 seconds\n",
      "x_train shape: (60000, 28, 28, 1)\n",
      "60000 train samples\n",
      "10000 test samples\n",
      "Test loss: 0.05163945389264554\n",
      "Test accuracy: 0.9833\n",
      "Time to run CNN Model is 26.18 seconds\n"
     ]
    }
   ],
   "source": [
    "# CPU @ 4.8GHz\n",
    "# GPU Core Clock @ +100MHz\n",
    "# GPU Memory Clock @ -200MHz\n",
    "import numpy as np\n",
    "import pickle\n",
    "\n",
    "run_times = []\n",
    "mean_std = []\n",
    "for i in range(5):\n",
    "    run_times.append(benchmark())\n",
    "    \n",
    "run_times.remove(max(run_times))\n",
    "run_times.remove(min(run_times))\n",
    "mean = np.mean(run_times)\n",
    "std = np.std(run_times)\n",
    "mean_std = [mean, std]\n",
    "\n",
    "pickle_out = open('mem2.pickle', 'wb')\n",
    "pickle.dump(mean_std, pickle_out)\n",
    "pickle_out.close()"
   ]
  },
  {
   "cell_type": "code",
   "execution_count": 11,
   "metadata": {
    "scrolled": true
   },
   "outputs": [
    {
     "name": "stdout",
     "output_type": "stream",
     "text": [
      "x_train shape: (60000, 28, 28, 1)\n",
      "60000 train samples\n",
      "10000 test samples\n",
      "Test loss: 0.05684559222803582\n",
      "Test accuracy: 0.9822\n",
      "Time to run CNN Model is 26.71 seconds\n",
      "x_train shape: (60000, 28, 28, 1)\n",
      "60000 train samples\n",
      "10000 test samples\n",
      "Test loss: 0.05609466864888964\n",
      "Test accuracy: 0.9822\n",
      "Time to run CNN Model is 26.49 seconds\n",
      "x_train shape: (60000, 28, 28, 1)\n",
      "60000 train samples\n",
      "10000 test samples\n",
      "Test loss: 0.05080288886159251\n",
      "Test accuracy: 0.9835\n",
      "Time to run CNN Model is 26.41 seconds\n",
      "x_train shape: (60000, 28, 28, 1)\n",
      "60000 train samples\n",
      "10000 test samples\n",
      "Test loss: 0.07030947876383797\n",
      "Test accuracy: 0.9792\n",
      "Time to run CNN Model is 26.50 seconds\n",
      "x_train shape: (60000, 28, 28, 1)\n",
      "60000 train samples\n",
      "10000 test samples\n",
      "Test loss: 0.056813963042534305\n",
      "Test accuracy: 0.9819\n",
      "Time to run CNN Model is 26.50 seconds\n"
     ]
    }
   ],
   "source": [
    "# CPU @ 4.8GHz\n",
    "# GPU Core Clock @ +100MHz\n",
    "# GPU Memory Clock @ -100MHz\n",
    "import numpy as np\n",
    "import pickle\n",
    "\n",
    "run_times = []\n",
    "mean_std = []\n",
    "for i in range(5):\n",
    "    run_times.append(benchmark())\n",
    "    \n",
    "run_times.remove(max(run_times))\n",
    "run_times.remove(min(run_times))\n",
    "mean = np.mean(run_times)\n",
    "std = np.std(run_times)\n",
    "mean_std = [mean, std]\n",
    "\n",
    "pickle_out = open('mem3.pickle', 'wb')\n",
    "pickle.dump(mean_std, pickle_out)\n",
    "pickle_out.close()"
   ]
  },
  {
   "cell_type": "code",
   "execution_count": 12,
   "metadata": {
    "scrolled": true
   },
   "outputs": [
    {
     "name": "stdout",
     "output_type": "stream",
     "text": [
      "x_train shape: (60000, 28, 28, 1)\n",
      "60000 train samples\n",
      "10000 test samples\n",
      "Test loss: 0.05269586612261482\n",
      "Test accuracy: 0.9824\n",
      "Time to run CNN Model is 26.50 seconds\n",
      "x_train shape: (60000, 28, 28, 1)\n",
      "60000 train samples\n",
      "10000 test samples\n",
      "Test loss: 0.05268453376766847\n",
      "Test accuracy: 0.9843\n",
      "Time to run CNN Model is 26.38 seconds\n",
      "x_train shape: (60000, 28, 28, 1)\n",
      "60000 train samples\n",
      "10000 test samples\n",
      "Test loss: 0.05185991496719216\n",
      "Test accuracy: 0.9832\n",
      "Time to run CNN Model is 26.25 seconds\n",
      "x_train shape: (60000, 28, 28, 1)\n",
      "60000 train samples\n",
      "10000 test samples\n",
      "Test loss: 0.057292410239668246\n",
      "Test accuracy: 0.9837\n",
      "Time to run CNN Model is 26.06 seconds\n",
      "x_train shape: (60000, 28, 28, 1)\n",
      "60000 train samples\n",
      "10000 test samples\n",
      "Test loss: 0.0534203818603004\n",
      "Test accuracy: 0.9832\n",
      "Time to run CNN Model is 26.24 seconds\n"
     ]
    }
   ],
   "source": [
    "# CPU @ 4.8GHz\n",
    "# GPU Core Clock @ +100MHz\n",
    "# GPU Memory Clock @ +0MHz\n",
    "import numpy as np\n",
    "import pickle\n",
    "\n",
    "run_times = []\n",
    "mean_std = []\n",
    "for i in range(5):\n",
    "    run_times.append(benchmark())\n",
    "    \n",
    "run_times.remove(max(run_times))\n",
    "run_times.remove(min(run_times))\n",
    "mean = np.mean(run_times)\n",
    "std = np.std(run_times)\n",
    "mean_std = [mean, std]\n",
    "\n",
    "pickle_out = open('mem4.pickle', 'wb')\n",
    "pickle.dump(mean_std, pickle_out)\n",
    "pickle_out.close()"
   ]
  },
  {
   "cell_type": "code",
   "execution_count": 13,
   "metadata": {
    "scrolled": true
   },
   "outputs": [
    {
     "name": "stdout",
     "output_type": "stream",
     "text": [
      "x_train shape: (60000, 28, 28, 1)\n",
      "60000 train samples\n",
      "10000 test samples\n",
      "Test loss: 0.055239729657030695\n",
      "Test accuracy: 0.9837\n",
      "Time to run CNN Model is 26.14 seconds\n",
      "x_train shape: (60000, 28, 28, 1)\n",
      "60000 train samples\n",
      "10000 test samples\n",
      "Test loss: 0.05308899590570363\n",
      "Test accuracy: 0.9835\n",
      "Time to run CNN Model is 25.93 seconds\n",
      "x_train shape: (60000, 28, 28, 1)\n",
      "60000 train samples\n",
      "10000 test samples\n",
      "Test loss: 0.0565796636511368\n",
      "Test accuracy: 0.981\n",
      "Time to run CNN Model is 25.94 seconds\n",
      "x_train shape: (60000, 28, 28, 1)\n",
      "60000 train samples\n",
      "10000 test samples\n",
      "Test loss: 0.05918674446986188\n",
      "Test accuracy: 0.9817\n",
      "Time to run CNN Model is 25.86 seconds\n",
      "x_train shape: (60000, 28, 28, 1)\n",
      "60000 train samples\n",
      "10000 test samples\n",
      "Test loss: 0.06011907200044916\n",
      "Test accuracy: 0.9819\n",
      "Time to run CNN Model is 25.80 seconds\n"
     ]
    }
   ],
   "source": [
    "# CPU @ 4.8GHz\n",
    "# GPU Core Clock @ +100MHz\n",
    "# GPU Memory Clock @ +100MHz\n",
    "import numpy as np\n",
    "import pickle\n",
    "\n",
    "run_times = []\n",
    "mean_std = []\n",
    "for i in range(5):\n",
    "    run_times.append(benchmark())\n",
    "    \n",
    "run_times.remove(max(run_times))\n",
    "run_times.remove(min(run_times))\n",
    "mean = np.mean(run_times)\n",
    "std = np.std(run_times)\n",
    "mean_std = [mean, std]\n",
    "\n",
    "pickle_out = open('mem5.pickle', 'wb')\n",
    "pickle.dump(mean_std, pickle_out)\n",
    "pickle_out.close()"
   ]
  },
  {
   "cell_type": "code",
   "execution_count": 14,
   "metadata": {
    "scrolled": true
   },
   "outputs": [
    {
     "name": "stdout",
     "output_type": "stream",
     "text": [
      "x_train shape: (60000, 28, 28, 1)\n",
      "60000 train samples\n",
      "10000 test samples\n",
      "Test loss: 0.05542438473175862\n",
      "Test accuracy: 0.9826\n",
      "Time to run CNN Model is 25.96 seconds\n",
      "x_train shape: (60000, 28, 28, 1)\n",
      "60000 train samples\n",
      "10000 test samples\n",
      "Test loss: 0.0571521359702514\n",
      "Test accuracy: 0.9828\n",
      "Time to run CNN Model is 25.53 seconds\n",
      "x_train shape: (60000, 28, 28, 1)\n",
      "60000 train samples\n",
      "10000 test samples\n",
      "Test loss: 0.05594449836297281\n",
      "Test accuracy: 0.9833\n",
      "Time to run CNN Model is 25.65 seconds\n",
      "x_train shape: (60000, 28, 28, 1)\n",
      "60000 train samples\n",
      "10000 test samples\n",
      "Test loss: 0.051481654992076804\n",
      "Test accuracy: 0.9835\n",
      "Time to run CNN Model is 25.89 seconds\n",
      "x_train shape: (60000, 28, 28, 1)\n",
      "60000 train samples\n",
      "10000 test samples\n",
      "Test loss: 0.054187199428478196\n",
      "Test accuracy: 0.9837\n",
      "Time to run CNN Model is 25.63 seconds\n"
     ]
    }
   ],
   "source": [
    "# CPU @ 4.8GHz\n",
    "# GPU Core Clock @ +100MHz\n",
    "# GPU Memory Clock @ +200MHz\n",
    "import numpy as np\n",
    "import pickle\n",
    "\n",
    "run_times = []\n",
    "mean_std = []\n",
    "for i in range(5):\n",
    "    run_times.append(benchmark())\n",
    "    \n",
    "run_times.remove(max(run_times))\n",
    "run_times.remove(min(run_times))\n",
    "mean = np.mean(run_times)\n",
    "std = np.std(run_times)\n",
    "mean_std = [mean, std]\n",
    "\n",
    "pickle_out = open('mem6.pickle', 'wb')\n",
    "pickle.dump(mean_std, pickle_out)\n",
    "pickle_out.close()"
   ]
  },
  {
   "cell_type": "markdown",
   "metadata": {},
   "source": [
    "# Analysis & Charts"
   ]
  },
  {
   "cell_type": "code",
   "execution_count": 61,
   "metadata": {},
   "outputs": [
    {
     "name": "stdout",
     "output_type": "stream",
     "text": [
      "CNN training performance improvement from 4.3GHz to 4.8GHz is 1.85%\n",
      "CNN training performance improvement from 1,900MHz to 2,000MHz is 1.16%\n",
      "CNN training performance improvement from 3,800MHz to 4,000MHz is 2.21%\n",
      "Cumulative CNN training performance improvement is 5.15%\n"
     ]
    }
   ],
   "source": [
    "# re-load saved data\n",
    "CPU_runtimes = []\n",
    "CPU_params = [4.3, 4.4, 4.5, 4.6, 4.7, 4.8]\n",
    "CPU_runtimes.append(pickle.load(open('4_3.pickle', 'rb'))[0])\n",
    "CPU_runtimes.append(pickle.load(open('4_4.pickle', 'rb'))[0])\n",
    "CPU_runtimes.append(pickle.load(open('4_5.pickle', 'rb'))[0])\n",
    "CPU_runtimes.append(pickle.load(open('4_6.pickle', 'rb'))[0])\n",
    "CPU_runtimes.append(pickle.load(open('4_7.pickle', 'rb'))[0])\n",
    "CPU_runtimes.append(pickle.load(open('4_8.pickle', 'rb'))[0])\n",
    "\n",
    "GPU_core_runtimes = []\n",
    "GPU_core_params =[1500, 1600, 1700, 1800, 1900, 2000]\n",
    "GPU_core_runtimes.append(pickle.load(open('core1.pickle', 'rb'))[0])\n",
    "GPU_core_runtimes.append(pickle.load(open('core2.pickle', 'rb'))[0])\n",
    "GPU_core_runtimes.append(pickle.load(open('core3.pickle', 'rb'))[0])\n",
    "GPU_core_runtimes.append(pickle.load(open('core4.pickle', 'rb'))[0])\n",
    "GPU_core_runtimes.append(pickle.load(open('core5.pickle', 'rb'))[0])\n",
    "GPU_core_runtimes.append(pickle.load(open('core6.pickle', 'rb'))[0])\n",
    "\n",
    "GPU_mem_runtimes = []\n",
    "GPU_mem_params =[3500, 3600, 3700, 3800, 3900, 4000]\n",
    "GPU_mem_runtimes.append(pickle.load(open('mem1.pickle', 'rb'))[0])\n",
    "GPU_mem_runtimes.append(pickle.load(open('mem2.pickle', 'rb'))[0])\n",
    "GPU_mem_runtimes.append(pickle.load(open('mem3.pickle', 'rb'))[0])\n",
    "GPU_mem_runtimes.append(pickle.load(open('mem4.pickle', 'rb'))[0])\n",
    "GPU_mem_runtimes.append(pickle.load(open('mem5.pickle', 'rb'))[0])\n",
    "GPU_mem_runtimes.append(pickle.load(open('mem6.pickle', 'rb'))[0])\n",
    "\n",
    "# CPU performance improvement over baseline\n",
    "print(f'CNN training performance improvement from 4.3GHz to 4.8GHz is {(CPU_runtimes[0]/CPU_runtimes[5]-1)*100:.2f}%')\n",
    " \n",
    "# GPU performance improvement over baseline\n",
    "print(f'CNN training performance improvement from 1,900MHz to 2,000MHz is {(GPU_core_runtimes[4]/GPU_core_runtimes[5]-1)*100:.2f}%')\n",
    "\n",
    "# GPU performance improvement over baseline\n",
    "print(f'CNN training performance improvement from 3,800MHz to 4,000MHz is {(GPU_mem_runtimes[3]/GPU_mem_runtimes[5]-1)*100:.2f}%')\n",
    "\n",
    "# Cumulative performance improvement of overclocking CPU & GPU core/memory\n",
    "print(f'Cumulative CNN training performance improvement is {(CPU_runtimes[0]/GPU_mem_runtimes[5]-1)*100:.2f}%')\n",
    "\n",
    "# normalize values\n",
    "CPU_runtimes = CPU_runtimes/max(CPU_runtimes)\n",
    "GPU_core_runtimes = GPU_core_runtimes/max(GPU_core_runtimes)\n",
    "GPU_mem_runtimes = GPU_mem_runtimes/max(GPU_mem_runtimes)"
   ]
  },
  {
   "cell_type": "code",
   "execution_count": 41,
   "metadata": {},
   "outputs": [
    {
     "data": {
      "image/png": "[encoded data removed]",
      "text/plain": [
       "<Figure size 540x360 with 1 Axes>"
      ]
     },
     "metadata": {
      "needs_background": "light"
     },
     "output_type": "display_data"
    }
   ],
   "source": [
    "# Chart values\n",
    "import matplotlib.pyplot as plt\n",
    "\n",
    "plt.figure(figsize=(7.5,5))\n",
    "plt.plot(CPU_params, CPU_runtimes)\n",
    "plt.xlabel('CPU Core Clocks')\n",
    "plt.ylabel('Performance - Lower is better')\n",
    "plt.title('CPU Benchmarks')\n",
    "plt.savefig('CPU Benchmarks')\n",
    "plt.show()"
   ]
  },
  {
   "cell_type": "code",
   "execution_count": 42,
   "metadata": {},
   "outputs": [
    {
     "data": {
      "image/png": "[encoded data removed]",
      "text/plain": [
       "<Figure size 540x360 with 1 Axes>"
      ]
     },
     "metadata": {
      "needs_background": "light"
     },
     "output_type": "display_data"
    }
   ],
   "source": [
    "plt.figure(figsize=(7.5,5))\n",
    "plt.plot(GPU_core_params, GPU_core_runtimes)\n",
    "plt.xlabel('GPU Core Clocks')\n",
    "plt.ylabel('Performance - Lower is better')\n",
    "plt.title('GPU Core Benchmarks')\n",
    "plt.savefig('GPU Core Benchmarks.png')\n",
    "plt.show()"
   ]
  },
  {
   "cell_type": "code",
   "execution_count": 43,
   "metadata": {},
   "outputs": [
    {
     "data": {
      "image/png": "[encoded data removed]",
      "text/plain": [
       "<Figure size 540x360 with 1 Axes>"
      ]
     },
     "metadata": {
      "needs_background": "light"
     },
     "output_type": "display_data"
    }
   ],
   "source": [
    "plt.figure(figsize=(7.5,5))\n",
    "plt.plot(GPU_mem_params, GPU_mem_runtimes)\n",
    "plt.xlabel('GPU Memory Clocks')\n",
    "plt.ylabel('Performance - Lower is better')\n",
    "plt.title('GPU Memory Benchmarks')\n",
    "plt.savefig('GPU Memory Benchmarks.png')\n",
    "plt.show()"
   ]
  },
  {
   "cell_type": "code",
   "execution_count": null,
   "metadata": {},
   "outputs": [],
   "source": []
  }
 ],
 "metadata": {
  "colab": {
   "collapsed_sections": [],
   "default_view": {},
   "name": "CNN_MNIST.ipynb",
   "provenance": [],
   "version": "0.3.2",
   "views": {}
  },
  "kernelspec": {
   "display_name": "Python 3",
   "language": "python",
   "name": "python3"
  },
  "language_info": {
   "codemirror_mode": {
    "name": "ipython",
    "version": 3
   },
   "file_extension": ".py",
   "mimetype": "text/x-python",
   "name": "python",
   "nbconvert_exporter": "python",
   "pygments_lexer": "ipython3",
   "version": "3.6.6"
  }
 },
 "nbformat": 4,
 "nbformat_minor": 1
}
